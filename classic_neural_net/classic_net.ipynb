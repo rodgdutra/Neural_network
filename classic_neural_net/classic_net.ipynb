{
 "cells": [
  {
   "cell_type": "markdown",
   "metadata": {},
   "source": [
    "## Rede neural MLP simples construída no python\n",
    "Nesse notebook contém uma rede neural do tipo multiple layer perceptron construída no python, contendo o algorítimo de backpropagation para o treinamento da mesma. A rede neural será treinada para a regressão de um modelo de tensão de um capacitor em um circuito de RC série, o modelo será equacionado posteriormente. \n",
    "\n",
    "### Referências:\n",
    "https://towardsdatascience.com/how-to-build-your-own-neural-network-from-scratch-in-python-68998a08e4f6"
   ]
  },
  {
   "cell_type": "code",
   "execution_count": 1,
   "metadata": {},
   "outputs": [],
   "source": [
    "# Importando as bibliotecas necessárias\n",
    "import numpy as np                             # para lidar com calculos\n",
    "import matplotlib.pyplot as plt                # para a plotagem"
   ]
  },
  {
   "cell_type": "markdown",
   "metadata": {},
   "source": [
    "### Função sigmoid e sua derivada\n",
    "A função sigmoid $f(x)$ é definida como: \n",
    "$$f(x)= \\frac{1}{1+e^{-x}} (1) $$ \n",
    "\n",
    "A derivada da função sigmoid pode ser escrita como: \n",
    "$$f'(x) = f(x) - (1- f(x))$$\n",
    "\n",
    "Dessa forma iremos declarar essas funções no código para facilitar na montagem de uma rede neural."
   ]
  },
  {
   "cell_type": "code",
   "execution_count": 2,
   "metadata": {},
   "outputs": [],
   "source": [
    "# Função de ativação\n",
    "def sigmoid(t):\n",
    "    return 1/(1+np.exp(-t))\n",
    "\n",
    "# Derivada da função de ativação\n",
    "def sigmoid_derivative(p):\n",
    "    return p * (1 - p)\n",
    "\n",
    "# Função para o calculo do erro médio quadratico de 2 arrays\n",
    "def mse(y1,y2):\n",
    "    return np.mean(np.square(y1 - y2))"
   ]
  },
  {
   "cell_type": "markdown",
   "metadata": {},
   "source": [
    "### Equação da tensão de um capacitor em um circuito RC série\n",
    "A tensão de um capacitor em um circuito RC série com $t>0$, e considerando o capacitor descarregado pode ser definida como : \n",
    "$$ V_c = Vin*(1-e^\\tau)$$\n",
    "\n",
    "Na qual, $Vin$ é a tensão de entrada do sistema e $\\tau$ pode ser definido como :\n",
    "$$ \\tau = \\frac{-t}{R*C} $$\n",
    "Onde $R$ é a resistência $C$ é a capacitância e $t$ é o tempo. "
   ]
  },
  {
   "cell_type": "code",
   "execution_count": 3,
   "metadata": {},
   "outputs": [],
   "source": [
    "def Vc_RC(t,r=5,c=0.1,vin=1):\n",
    "    \"\"\"\n",
    "    Tensão de um capacitor em um circuito RC\n",
    "    \"\"\"\n",
    "    tau = -t/(r*c)\n",
    "    vc  = vin*(1 - np.exp(tau))\n",
    "\n",
    "    return vc"
   ]
  },
  {
   "cell_type": "markdown",
   "metadata": {},
   "source": [
    "## Rede Neural\n",
    "A rede neural que será criada nesse notebook  é  do tipo multiple layer perceptron(MLP) com 3 camadas, sendo estas a camada de entrada, uma camada escondida e uma camada de saída. Para a criação da rede será utilizado uma classe do python, para facilitar o treinamento. No treinamento será utilizado o algorítimo de  Backpropagation. Este algorítimo possui 2 fazes, na propagação para frente(feed forward) e a fase de retro propagação do erro (back-propagation).\n",
    "\n",
    "### Feed forward\n",
    "O método de feed foward é o qual a rede neural irá produzir o sinal de saída, de forma que nesse método são utilizadas as entradas, os pesos, bias e a função de ativação de cada neurônio das camadas instanciadas. Dessa forma será propagado os sinais de entrada mediados pelos pesos, multiplicados pela função de ativação e ajustados pelo Bias de cada camada.\n",
    "\n",
    "O sinal de saída $ y_k $ de cada neurônio pode ser escrito da forma: \n",
    "\n",
    "$$ y_k = f(\\sum_{i=0}^n ({X_i*W_ki}) + \\theta_j)$$\n",
    "\n",
    "Na qual, $W$ a representa a matriz de pesos da camada $j$ na qual está situado o neurônio, $X$ o vetor de entrada do neurônio e $\\theta$ o bias. Os subtítulos $i$ e $j$ significam respectivamente o index do vetor de entrada do neurônio e a camada na qual o neurônio está situado, $k$ é o índex do neurônio da camada $j$. \n",
    "\n",
    "Na equação acima a função $f(x)$ é a função de ativação, nesse notebook será utilizado a função sigmoid.\n",
    "Para cada camada abaixo da camada de entrada, o vetor $X_i$ contem todas as os valores saídas $ y_k$ dos  neurônios da camada anterior."
   ]
  },
  {
   "cell_type": "code",
   "execution_count": 4,
   "metadata": {},
   "outputs": [],
   "source": [
    "# Class definition\n",
    "class NeuralNetwork:\n",
    "    def __init__(self, x, y, n=15):\n",
    "        \"\"\"\n",
    "        Definição de um objeto de rede neural\n",
    "\n",
    "        argumentos:\n",
    "        x: a entrada de treino\n",
    "        y: a saída desejada no treino\n",
    "        n: Número de neurônios na camada escondida\n",
    "        \"\"\"\n",
    "        self.entrada = x\n",
    "        self.pesos1 = np.random.rand(self.entrada.shape[1],n)\n",
    "        self.pesos2 = np.random.rand(self.pesos1.shape[1],1)\n",
    "        self.y = y\n",
    "        self.saida = np. zeros(y.shape)\n",
    "\n",
    "    def feedforward(self):\n",
    "        self.layer1 = sigmoid(np.dot(self.entrada, self.pesos1))\n",
    "        self.layer2 = sigmoid(np.dot(self.layer1, self.pesos2))\n",
    "        # Nota-se que a saída da camada 2 é a saída do modelo\n",
    "        return self.layer2\n",
    "\n",
    "    def backprop(self):\n",
    "        d_pesos2 = np.dot(self.layer1.T, 2*(self.y -self.saida)*sigmoid_derivative(self.saida))\n",
    "        d_pesos1 = np.dot(self.entrada.T, np.dot(2*(self.y -self.saida)*sigmoid_derivative(self.saida), self.pesos2.T)*sigmoid_derivative(self.layer1))\n",
    "\n",
    "        self.pesos1 += d_pesos1*0.2\n",
    "        self.pesos2 += d_pesos2*0.2\n",
    "\n",
    "    def train(self):\n",
    "        self.saida = self.feedforward()\n",
    "        self.backprop()\n",
    "    \n",
    "    def predict(self,x):\n",
    "        self.entrada = x\n",
    "        self.saida = self.feedforward()\n",
    "        return self.saida\n",
    "    \n",
    "    def mostrar_pesos(self):\n",
    "        print(\"Pesos1\")\n",
    "        print(self.pesos1)\n",
    "        print(\"Pesos2\")\n",
    "        print(self.pesos2)\n",
    "    "
   ]
  },
  {
   "cell_type": "code",
   "execution_count": null,
   "metadata": {},
   "outputs": [],
   "source": []
  },
  {
   "cell_type": "code",
   "execution_count": 5,
   "metadata": {},
   "outputs": [],
   "source": [
    "# Definindo um modelo matemático\n",
    "t = np.arange(0,3,0.1)\n",
    "vc = Vc_RC(t)\n",
    "\n",
    "t = t/np.amax(t)\n",
    "# Dividindo os datasets de treino e teste\n",
    "porcent_treino = 60\n",
    "tam_treino = int(len(vc)*porcent_treino/100)\n",
    "\n",
    "# Entrada e saída de treino\n",
    "x_train = t[:tam_treino]\n",
    "y_train = vc[:tam_treino]\n",
    "\n",
    "# Entrada e saída de teste\n",
    "x_test = t[tam_treino:]\n",
    "y_test = vc[tam_treino:]\n",
    "\n",
    "# Transformando os vetores entrada e saída em coluna \n",
    "x_train = x_train.reshape(tam_treino,1)\n",
    "y_train = y_train.reshape(tam_treino,1)\n",
    "x_test  = x_test.reshape(len(x_test),1)\n",
    "\n",
    "# Definindo o objeto da rede neural\n",
    "nn_vc_model = NeuralNetwork(x_train,y_train,n=15)\n"
   ]
  },
  {
   "cell_type": "code",
   "execution_count": 6,
   "metadata": {},
   "outputs": [
    {
     "name": "stdout",
     "output_type": "stream",
     "text": [
      "Pesos1\n",
      "[[0.52776632 0.75432239 0.30441853 0.26291219 0.77596678 0.77000419\n",
      "  0.5701898  0.72226778 0.67913216 0.31639582 0.71525618 0.26236793\n",
      "  0.35287853 0.68018171 0.02114171]]\n",
      "Pesos2\n",
      "[[0.56264344]\n",
      " [0.14744072]\n",
      " [0.30420144]\n",
      " [0.95458265]\n",
      " [0.41674721]\n",
      " [0.49565981]\n",
      " [0.27510917]\n",
      " [0.94814293]\n",
      " [0.64266066]\n",
      " [0.49942083]\n",
      " [0.91614564]\n",
      " [0.10799513]\n",
      " [0.02433163]\n",
      " [0.34682299]\n",
      " [0.62951015]]\n"
     ]
    }
   ],
   "source": [
    "# Mostrando os pesos antes do treino\n",
    "nn_vc_model.mostrar_pesos()"
   ]
  },
  {
   "cell_type": "code",
   "execution_count": 7,
   "metadata": {},
   "outputs": [
    {
     "data": {
      "image/png": "[encoded data removed]",
      "text/plain": [
       "<Figure size 800x480 with 1 Axes>"
      ]
     },
     "metadata": {
      "needs_background": "light"
     },
     "output_type": "display_data"
    },
    {
     "data": {
      "image/png": "[encoded data removed]",
      "text/plain": [
       "<Figure size 800x480 with 1 Axes>"
      ]
     },
     "metadata": {
      "needs_background": "light"
     },
     "output_type": "display_data"
    }
   ],
   "source": [
    "\n",
    "# Treinando a rede por 500 epocas\n",
    "erro = list()\n",
    "\n",
    "for i in range(500):\n",
    "    saida_rede = nn_vc_model.feedforward() # calculando a saida da rede\n",
    "    erro.append(mse(y_train, saida_rede)) # calculabdo o mse e guardando em um vetor\n",
    "    nn_vc_model.train() # utilizando um metodo do objeto rede neural para treinar\n",
    "\n",
    "fig = plt.figure(figsize=(10, 6), dpi=80)\n",
    "plt.plot(erro,'r')\n",
    "plt.xlabel(\"epoca\")\n",
    "plt.ylabel(\"erro quadratico médio\")\n",
    "plt.show()\n",
    "\n",
    "# transformando as matrizes de entrada em vetores para a plotagem\n",
    "t          = t.flatten()\n",
    "vc         = vc.flatten()\n",
    "\n",
    "# Transformando a saida da rede neural para a plotagem\n",
    "saida_rede = nn_vc_model.predict(x_test)\n",
    "\n",
    "fig = plt.figure( figsize=(10, 6), dpi=80)\n",
    "plt.plot(x_test.flatten(), y_test, 'b', label=\"tensão VC calculada\")\n",
    "plt.plot(x_test.flatten(), saida_rede, 'r', label=\"tensão VC rede\")\n",
    "plt.legend()\n",
    "plt.grid()\n",
    "plt.xlabel(\"tempo\")\n",
    "plt.ylabel(\"tensão\")\n",
    "plt.show()"
   ]
  },
  {
   "cell_type": "code",
   "execution_count": 8,
   "metadata": {},
   "outputs": [
    {
     "name": "stdout",
     "output_type": "stream",
     "text": [
      "Pesos1\n",
      "[[ 1.04260855  0.17241991 -1.31916728  1.60017702  1.51443064  1.82073793\n",
      "  -0.1274228   3.27281599  2.04481114 -0.29995481  3.15108352 -2.41063366\n",
      "  -2.37347236  0.76094271 -1.14245999]]\n",
      "Pesos2\n",
      "[[ 3.18904922e-01]\n",
      " [-6.16742474e-01]\n",
      " [-2.05151854e+00]\n",
      " [ 9.50885637e-01]\n",
      " [ 7.55392978e-01]\n",
      " [ 1.07732371e+00]\n",
      " [-8.84034648e-01]\n",
      " [ 2.67620021e+00]\n",
      " [ 1.33374636e+00]\n",
      " [-1.00900088e+00]\n",
      " [ 2.53878174e+00]\n",
      " [-3.19716174e+00]\n",
      " [-3.17462168e+00]\n",
      " [-1.42214218e-03]\n",
      " [-1.81362046e+00]]\n"
     ]
    }
   ],
   "source": [
    "# Mostrando os pesos das camadas\n",
    "nn_vc_model.mostrar_pesos()"
   ]
  },
  {
   "cell_type": "markdown",
   "metadata": {},
   "source": [
    "mse(y_teste)"
   ]
  }
 ],
 "metadata": {
  "file_extension": ".py",
  "kernelspec": {
   "display_name": "Python 3",
   "language": "python",
   "name": "python3"
  },
  "language_info": {
   "codemirror_mode": {
    "name": "ipython",
    "version": 3
   },
   "file_extension": ".py",
   "mimetype": "text/x-python",
   "name": "python",
   "nbconvert_exporter": "python",
   "pygments_lexer": "ipython3",
   "version": "3.6.8"
  },
  "mimetype": "text/x-python",
  "name": "python",
  "npconvert_exporter": "python",
  "pygments_lexer": "ipython3",
  "version": 3
 },
 "nbformat": 4,
 "nbformat_minor": 2
}
